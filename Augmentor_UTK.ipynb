{
 "cells": [
  {
   "cell_type": "code",
   "execution_count": 1,
   "id": "335317be-82b5-430b-b4c0-a71bd9b48d81",
   "metadata": {},
   "outputs": [],
   "source": [
    "import numpy as np\n",
    "import pandas as pd\n",
    "import os"
   ]
  },
  {
   "cell_type": "code",
   "execution_count": 3,
   "id": "22ad2fe2-4567-4646-b8db-5c7e678cb64e",
   "metadata": {},
   "outputs": [],
   "source": [
    "folder_path = \"./UTKFace\"\n",
    "\n",
    "data = []\n",
    "\n",
    "for filename in os.listdir(folder_path):\n",
    "    nparts = filename.split(\"_\")\n",
    "    age = nparts[0]\n",
    "    gender = nparts[1]\n",
    "    race = nparts[2]\n",
    "    dt = nparts[-1].split(\".\")[0]\n",
    "\n",
    "    data.append([age, gender, race, dt, filename])\n",
    "\n",
    "df = pd.DataFrame(data, columns = [\"Age\", \"Gender\", \"Race\", \"Date_Time\", \"File_Name\"])"
   ]
  },
  {
   "cell_type": "code",
   "execution_count": 5,
   "id": "8da8efdd-596b-475f-856f-330657448b6a",
   "metadata": {},
   "outputs": [
    {
     "data": {
      "text/html": [
       "<div>\n",
       "<style scoped>\n",
       "    .dataframe tbody tr th:only-of-type {\n",
       "        vertical-align: middle;\n",
       "    }\n",
       "\n",
       "    .dataframe tbody tr th {\n",
       "        vertical-align: top;\n",
       "    }\n",
       "\n",
       "    .dataframe thead th {\n",
       "        text-align: right;\n",
       "    }\n",
       "</style>\n",
       "<table border=\"1\" class=\"dataframe\">\n",
       "  <thead>\n",
       "    <tr style=\"text-align: right;\">\n",
       "      <th></th>\n",
       "      <th>Age</th>\n",
       "      <th>Gender</th>\n",
       "      <th>Race</th>\n",
       "      <th>Date_Time</th>\n",
       "      <th>File_Name</th>\n",
       "    </tr>\n",
       "  </thead>\n",
       "  <tbody>\n",
       "    <tr>\n",
       "      <th>0</th>\n",
       "      <td>100</td>\n",
       "      <td>0</td>\n",
       "      <td>0</td>\n",
       "      <td>20170112213500903</td>\n",
       "      <td>100_0_0_20170112213500903.jpg.chip.jpg</td>\n",
       "    </tr>\n",
       "    <tr>\n",
       "      <th>1</th>\n",
       "      <td>100</td>\n",
       "      <td>0</td>\n",
       "      <td>0</td>\n",
       "      <td>20170112215240346</td>\n",
       "      <td>100_0_0_20170112215240346.jpg.chip.jpg</td>\n",
       "    </tr>\n",
       "    <tr>\n",
       "      <th>2</th>\n",
       "      <td>100</td>\n",
       "      <td>1</td>\n",
       "      <td>0</td>\n",
       "      <td>20170110183726390</td>\n",
       "      <td>100_1_0_20170110183726390.jpg.chip.jpg</td>\n",
       "    </tr>\n",
       "    <tr>\n",
       "      <th>3</th>\n",
       "      <td>100</td>\n",
       "      <td>1</td>\n",
       "      <td>0</td>\n",
       "      <td>20170112213001988</td>\n",
       "      <td>100_1_0_20170112213001988.jpg.chip.jpg</td>\n",
       "    </tr>\n",
       "    <tr>\n",
       "      <th>4</th>\n",
       "      <td>100</td>\n",
       "      <td>1</td>\n",
       "      <td>0</td>\n",
       "      <td>20170112213303693</td>\n",
       "      <td>100_1_0_20170112213303693.jpg.chip.jpg</td>\n",
       "    </tr>\n",
       "  </tbody>\n",
       "</table>\n",
       "</div>"
      ],
      "text/plain": [
       "   Age Gender Race          Date_Time                               File_Name\n",
       "0  100      0    0  20170112213500903  100_0_0_20170112213500903.jpg.chip.jpg\n",
       "1  100      0    0  20170112215240346  100_0_0_20170112215240346.jpg.chip.jpg\n",
       "2  100      1    0  20170110183726390  100_1_0_20170110183726390.jpg.chip.jpg\n",
       "3  100      1    0  20170112213001988  100_1_0_20170112213001988.jpg.chip.jpg\n",
       "4  100      1    0  20170112213303693  100_1_0_20170112213303693.jpg.chip.jpg"
      ]
     },
     "execution_count": 5,
     "metadata": {},
     "output_type": "execute_result"
    }
   ],
   "source": [
    "df.head()"
   ]
  },
  {
   "cell_type": "code",
   "execution_count": 9,
   "id": "b6398d01-5cdb-48a6-9b29-1e5ca6bba6e5",
   "metadata": {},
   "outputs": [
    {
     "data": {
      "text/plain": [
       "Race\n",
       "0                                 42.508858\n",
       "1                                 19.090602\n",
       "3                                 16.766492\n",
       "2                                 14.484562\n",
       "4                                  7.136831\n",
       "20170116174525125.jpg.chip.jpg     0.004218\n",
       "20170109142408075.jpg.chip.jpg     0.004218\n",
       "20170109150557335.jpg.chip.jpg     0.004218\n",
       "Name: proportion, dtype: float64"
      ]
     },
     "execution_count": 9,
     "metadata": {},
     "output_type": "execute_result"
    }
   ],
   "source": [
    "df.Race.value_counts(normalize = True)*100"
   ]
  },
  {
   "cell_type": "code",
   "execution_count": 13,
   "id": "4693fc84-8e29-4bac-acd5-cf2ca68352f5",
   "metadata": {},
   "outputs": [],
   "source": [
    "valid_races = ['0', '1','2','3','4']\n",
    "\n",
    "\n",
    "df['Race'] = df['Race'].astype(str)\n",
    "\n",
    "df = df[df[\"Race\"].isin(valid_races)]"
   ]
  },
  {
   "cell_type": "code",
   "execution_count": 17,
   "id": "1bdf9c28-6a7a-4e65-a31e-2080d5c7e40a",
   "metadata": {},
   "outputs": [
    {
     "data": {
      "text/plain": [
       "Race\n",
       "0    10078\n",
       "1     4526\n",
       "3     3975\n",
       "2     3434\n",
       "4     1692\n",
       "Name: count, dtype: int64"
      ]
     },
     "execution_count": 17,
     "metadata": {},
     "output_type": "execute_result"
    }
   ],
   "source": [
    "df.Race.value_counts()"
   ]
  },
  {
   "cell_type": "code",
   "execution_count": 21,
   "id": "d7c247ae-04f0-46ee-9952-e801c3803409",
   "metadata": {},
   "outputs": [],
   "source": [
    "race_0 = df[df[\"Race\"] == \"0\"].sample(n = 100, random_state = 42)"
   ]
  },
  {
   "cell_type": "code",
   "execution_count": 23,
   "id": "61381b35-ddc3-44ce-9b0d-9a7604f28b49",
   "metadata": {},
   "outputs": [
    {
     "data": {
      "text/html": [
       "<div>\n",
       "<style scoped>\n",
       "    .dataframe tbody tr th:only-of-type {\n",
       "        vertical-align: middle;\n",
       "    }\n",
       "\n",
       "    .dataframe tbody tr th {\n",
       "        vertical-align: top;\n",
       "    }\n",
       "\n",
       "    .dataframe thead th {\n",
       "        text-align: right;\n",
       "    }\n",
       "</style>\n",
       "<table border=\"1\" class=\"dataframe\">\n",
       "  <thead>\n",
       "    <tr style=\"text-align: right;\">\n",
       "      <th></th>\n",
       "      <th>Age</th>\n",
       "      <th>Gender</th>\n",
       "      <th>Race</th>\n",
       "      <th>Date_Time</th>\n",
       "      <th>File_Name</th>\n",
       "    </tr>\n",
       "  </thead>\n",
       "  <tbody>\n",
       "    <tr>\n",
       "      <th>23301</th>\n",
       "      <td>8</td>\n",
       "      <td>1</td>\n",
       "      <td>0</td>\n",
       "      <td>20170109204954253</td>\n",
       "      <td>8_1_0_20170109204954253.jpg.chip.jpg</td>\n",
       "    </tr>\n",
       "    <tr>\n",
       "      <th>39</th>\n",
       "      <td>10</td>\n",
       "      <td>0</td>\n",
       "      <td>0</td>\n",
       "      <td>20170110220548521</td>\n",
       "      <td>10_0_0_20170110220548521.jpg.chip.jpg</td>\n",
       "    </tr>\n",
       "    <tr>\n",
       "      <th>2975</th>\n",
       "      <td>21</td>\n",
       "      <td>0</td>\n",
       "      <td>0</td>\n",
       "      <td>20170104230057120</td>\n",
       "      <td>21_0_0_20170104230057120.jpg.chip.jpg</td>\n",
       "    </tr>\n",
       "    <tr>\n",
       "      <th>19166</th>\n",
       "      <td>54</td>\n",
       "      <td>1</td>\n",
       "      <td>0</td>\n",
       "      <td>20170117191523029</td>\n",
       "      <td>54_1_0_20170117191523029.jpg.chip.jpg</td>\n",
       "    </tr>\n",
       "    <tr>\n",
       "      <th>17287</th>\n",
       "      <td>48</td>\n",
       "      <td>0</td>\n",
       "      <td>0</td>\n",
       "      <td>20170104201250552</td>\n",
       "      <td>48_0_0_20170104201250552.jpg.chip.jpg</td>\n",
       "    </tr>\n",
       "    <tr>\n",
       "      <th>...</th>\n",
       "      <td>...</td>\n",
       "      <td>...</td>\n",
       "      <td>...</td>\n",
       "      <td>...</td>\n",
       "      <td>...</td>\n",
       "    </tr>\n",
       "    <tr>\n",
       "      <th>41</th>\n",
       "      <td>10</td>\n",
       "      <td>0</td>\n",
       "      <td>0</td>\n",
       "      <td>20170110220644705</td>\n",
       "      <td>10_0_0_20170110220644705.jpg.chip.jpg</td>\n",
       "    </tr>\n",
       "    <tr>\n",
       "      <th>110</th>\n",
       "      <td>10</td>\n",
       "      <td>1</td>\n",
       "      <td>0</td>\n",
       "      <td>20161220222001459</td>\n",
       "      <td>10_1_0_20161220222001459.jpg.chip.jpg</td>\n",
       "    </tr>\n",
       "    <tr>\n",
       "      <th>442</th>\n",
       "      <td>13</td>\n",
       "      <td>1</td>\n",
       "      <td>0</td>\n",
       "      <td>20170109212934682</td>\n",
       "      <td>13_1_0_20170109212934682.jpg.chip.jpg</td>\n",
       "    </tr>\n",
       "    <tr>\n",
       "      <th>984</th>\n",
       "      <td>16</td>\n",
       "      <td>1</td>\n",
       "      <td>0</td>\n",
       "      <td>20170109214415828</td>\n",
       "      <td>16_1_0_20170109214415828.jpg.chip.jpg</td>\n",
       "    </tr>\n",
       "    <tr>\n",
       "      <th>2223</th>\n",
       "      <td>1</td>\n",
       "      <td>1</td>\n",
       "      <td>0</td>\n",
       "      <td>20161219205022813</td>\n",
       "      <td>1_1_0_20161219205022813.jpg.chip.jpg</td>\n",
       "    </tr>\n",
       "  </tbody>\n",
       "</table>\n",
       "<p>100 rows × 5 columns</p>\n",
       "</div>"
      ],
      "text/plain": [
       "      Age Gender Race          Date_Time  \\\n",
       "23301   8      1    0  20170109204954253   \n",
       "39     10      0    0  20170110220548521   \n",
       "2975   21      0    0  20170104230057120   \n",
       "19166  54      1    0  20170117191523029   \n",
       "17287  48      0    0  20170104201250552   \n",
       "...    ..    ...  ...                ...   \n",
       "41     10      0    0  20170110220644705   \n",
       "110    10      1    0  20161220222001459   \n",
       "442    13      1    0  20170109212934682   \n",
       "984    16      1    0  20170109214415828   \n",
       "2223    1      1    0  20161219205022813   \n",
       "\n",
       "                                   File_Name  \n",
       "23301   8_1_0_20170109204954253.jpg.chip.jpg  \n",
       "39     10_0_0_20170110220548521.jpg.chip.jpg  \n",
       "2975   21_0_0_20170104230057120.jpg.chip.jpg  \n",
       "19166  54_1_0_20170117191523029.jpg.chip.jpg  \n",
       "17287  48_0_0_20170104201250552.jpg.chip.jpg  \n",
       "...                                      ...  \n",
       "41     10_0_0_20170110220644705.jpg.chip.jpg  \n",
       "110    10_1_0_20161220222001459.jpg.chip.jpg  \n",
       "442    13_1_0_20170109212934682.jpg.chip.jpg  \n",
       "984    16_1_0_20170109214415828.jpg.chip.jpg  \n",
       "2223    1_1_0_20161219205022813.jpg.chip.jpg  \n",
       "\n",
       "[100 rows x 5 columns]"
      ]
     },
     "execution_count": 23,
     "metadata": {},
     "output_type": "execute_result"
    }
   ],
   "source": [
    "race_0"
   ]
  },
  {
   "cell_type": "code",
   "execution_count": 25,
   "id": "fcd3ab7d-f950-47cd-92a2-c9d19caefe8c",
   "metadata": {},
   "outputs": [],
   "source": [
    "race_1 = df[df[\"Race\"] == \"1\"].sample(n = 10, random_state = 42)\n",
    "race_2 = df[df[\"Race\"] == \"2\"].sample(n = 10, random_state = 42)\n",
    "race_3 = df[df[\"Race\"] == \"3\"].sample(n = 10, random_state = 42)\n",
    "race_4 = df[df[\"Race\"] == \"4\"].sample(n = 10, random_state = 42)"
   ]
  },
  {
   "cell_type": "code",
   "execution_count": 27,
   "id": "a15855b2-d679-497b-bc4c-fa81bcb58d2f",
   "metadata": {},
   "outputs": [
    {
     "data": {
      "text/html": [
       "<div>\n",
       "<style scoped>\n",
       "    .dataframe tbody tr th:only-of-type {\n",
       "        vertical-align: middle;\n",
       "    }\n",
       "\n",
       "    .dataframe tbody tr th {\n",
       "        vertical-align: top;\n",
       "    }\n",
       "\n",
       "    .dataframe thead th {\n",
       "        text-align: right;\n",
       "    }\n",
       "</style>\n",
       "<table border=\"1\" class=\"dataframe\">\n",
       "  <thead>\n",
       "    <tr style=\"text-align: right;\">\n",
       "      <th></th>\n",
       "      <th>Age</th>\n",
       "      <th>Gender</th>\n",
       "      <th>Race</th>\n",
       "      <th>Date_Time</th>\n",
       "      <th>File_Name</th>\n",
       "    </tr>\n",
       "  </thead>\n",
       "  <tbody>\n",
       "    <tr>\n",
       "      <th>11732</th>\n",
       "      <td>32</td>\n",
       "      <td>0</td>\n",
       "      <td>1</td>\n",
       "      <td>20170113151546423</td>\n",
       "      <td>32_0_1_20170113151546423.jpg.chip.jpg</td>\n",
       "    </tr>\n",
       "    <tr>\n",
       "      <th>9588</th>\n",
       "      <td>29</td>\n",
       "      <td>0</td>\n",
       "      <td>1</td>\n",
       "      <td>20170113175509613</td>\n",
       "      <td>29_0_1_20170113175509613.jpg.chip.jpg</td>\n",
       "    </tr>\n",
       "    <tr>\n",
       "      <th>6133</th>\n",
       "      <td>26</td>\n",
       "      <td>0</td>\n",
       "      <td>1</td>\n",
       "      <td>20170116024617265</td>\n",
       "      <td>26_0_1_20170116024617265.jpg.chip.jpg</td>\n",
       "    </tr>\n",
       "    <tr>\n",
       "      <th>11500</th>\n",
       "      <td>31</td>\n",
       "      <td>1</td>\n",
       "      <td>1</td>\n",
       "      <td>20170116222848038</td>\n",
       "      <td>31_1_1_20170116222848038.jpg.chip.jpg</td>\n",
       "    </tr>\n",
       "    <tr>\n",
       "      <th>19963</th>\n",
       "      <td>58</td>\n",
       "      <td>0</td>\n",
       "      <td>1</td>\n",
       "      <td>20170117193003224</td>\n",
       "      <td>58_0_1_20170117193003224.jpg.chip.jpg</td>\n",
       "    </tr>\n",
       "    <tr>\n",
       "      <th>15772</th>\n",
       "      <td>40</td>\n",
       "      <td>1</td>\n",
       "      <td>1</td>\n",
       "      <td>20170110153441199</td>\n",
       "      <td>40_1_1_20170110153441199.jpg.chip.jpg</td>\n",
       "    </tr>\n",
       "    <tr>\n",
       "      <th>13850</th>\n",
       "      <td>36</td>\n",
       "      <td>0</td>\n",
       "      <td>1</td>\n",
       "      <td>20170117163447723</td>\n",
       "      <td>36_0_1_20170117163447723.jpg.chip.jpg</td>\n",
       "    </tr>\n",
       "    <tr>\n",
       "      <th>9904</th>\n",
       "      <td>29</td>\n",
       "      <td>1</td>\n",
       "      <td>1</td>\n",
       "      <td>20170116023929751</td>\n",
       "      <td>29_1_1_20170116023929751.jpg.chip.jpg</td>\n",
       "    </tr>\n",
       "    <tr>\n",
       "      <th>14246</th>\n",
       "      <td>37</td>\n",
       "      <td>0</td>\n",
       "      <td>1</td>\n",
       "      <td>20170116193848620</td>\n",
       "      <td>37_0_1_20170116193848620.jpg.chip.jpg</td>\n",
       "    </tr>\n",
       "    <tr>\n",
       "      <th>10302</th>\n",
       "      <td>2</td>\n",
       "      <td>1</td>\n",
       "      <td>1</td>\n",
       "      <td>20170109194445412</td>\n",
       "      <td>2_1_1_20170109194445412.jpg.chip.jpg</td>\n",
       "    </tr>\n",
       "  </tbody>\n",
       "</table>\n",
       "</div>"
      ],
      "text/plain": [
       "      Age Gender Race          Date_Time  \\\n",
       "11732  32      0    1  20170113151546423   \n",
       "9588   29      0    1  20170113175509613   \n",
       "6133   26      0    1  20170116024617265   \n",
       "11500  31      1    1  20170116222848038   \n",
       "19963  58      0    1  20170117193003224   \n",
       "15772  40      1    1  20170110153441199   \n",
       "13850  36      0    1  20170117163447723   \n",
       "9904   29      1    1  20170116023929751   \n",
       "14246  37      0    1  20170116193848620   \n",
       "10302   2      1    1  20170109194445412   \n",
       "\n",
       "                                   File_Name  \n",
       "11732  32_0_1_20170113151546423.jpg.chip.jpg  \n",
       "9588   29_0_1_20170113175509613.jpg.chip.jpg  \n",
       "6133   26_0_1_20170116024617265.jpg.chip.jpg  \n",
       "11500  31_1_1_20170116222848038.jpg.chip.jpg  \n",
       "19963  58_0_1_20170117193003224.jpg.chip.jpg  \n",
       "15772  40_1_1_20170110153441199.jpg.chip.jpg  \n",
       "13850  36_0_1_20170117163447723.jpg.chip.jpg  \n",
       "9904   29_1_1_20170116023929751.jpg.chip.jpg  \n",
       "14246  37_0_1_20170116193848620.jpg.chip.jpg  \n",
       "10302   2_1_1_20170109194445412.jpg.chip.jpg  "
      ]
     },
     "execution_count": 27,
     "metadata": {},
     "output_type": "execute_result"
    }
   ],
   "source": [
    "race_1"
   ]
  },
  {
   "cell_type": "code",
   "execution_count": 29,
   "id": "3297613a-9394-4d61-9c35-942cb43bf944",
   "metadata": {},
   "outputs": [
    {
     "data": {
      "text/html": [
       "<div>\n",
       "<style scoped>\n",
       "    .dataframe tbody tr th:only-of-type {\n",
       "        vertical-align: middle;\n",
       "    }\n",
       "\n",
       "    .dataframe tbody tr th {\n",
       "        vertical-align: top;\n",
       "    }\n",
       "\n",
       "    .dataframe thead th {\n",
       "        text-align: right;\n",
       "    }\n",
       "</style>\n",
       "<table border=\"1\" class=\"dataframe\">\n",
       "  <thead>\n",
       "    <tr style=\"text-align: right;\">\n",
       "      <th></th>\n",
       "      <th>Age</th>\n",
       "      <th>Gender</th>\n",
       "      <th>Race</th>\n",
       "      <th>Date_Time</th>\n",
       "      <th>File_Name</th>\n",
       "    </tr>\n",
       "  </thead>\n",
       "  <tbody>\n",
       "    <tr>\n",
       "      <th>10237</th>\n",
       "      <td>2</td>\n",
       "      <td>0</td>\n",
       "      <td>4</td>\n",
       "      <td>20161221202417666</td>\n",
       "      <td>2_0_4_20161221202417666.jpg.chip.jpg</td>\n",
       "    </tr>\n",
       "    <tr>\n",
       "      <th>21799</th>\n",
       "      <td>6</td>\n",
       "      <td>1</td>\n",
       "      <td>4</td>\n",
       "      <td>20170119204208503</td>\n",
       "      <td>6_1_4_20170119204208503.jpg.chip.jpg</td>\n",
       "    </tr>\n",
       "    <tr>\n",
       "      <th>13306</th>\n",
       "      <td>35</td>\n",
       "      <td>0</td>\n",
       "      <td>4</td>\n",
       "      <td>20170104165959561</td>\n",
       "      <td>35_0_4_20170104165959561.jpg.chip.jpg</td>\n",
       "    </tr>\n",
       "    <tr>\n",
       "      <th>12242</th>\n",
       "      <td>32</td>\n",
       "      <td>1</td>\n",
       "      <td>4</td>\n",
       "      <td>20170105165021555</td>\n",
       "      <td>32_1_4_20170105165021555.jpg.chip.jpg</td>\n",
       "    </tr>\n",
       "    <tr>\n",
       "      <th>15337</th>\n",
       "      <td>3</td>\n",
       "      <td>1</td>\n",
       "      <td>4</td>\n",
       "      <td>20170104005006111</td>\n",
       "      <td>3_1_4_20170104005006111.jpg.chip.jpg</td>\n",
       "    </tr>\n",
       "    <tr>\n",
       "      <th>793</th>\n",
       "      <td>15</td>\n",
       "      <td>1</td>\n",
       "      <td>4</td>\n",
       "      <td>20170103233441003</td>\n",
       "      <td>15_1_4_20170103233441003.jpg.chip.jpg</td>\n",
       "    </tr>\n",
       "    <tr>\n",
       "      <th>12309</th>\n",
       "      <td>33</td>\n",
       "      <td>0</td>\n",
       "      <td>4</td>\n",
       "      <td>20170117201021349</td>\n",
       "      <td>33_0_4_20170117201021349.jpg.chip.jpg</td>\n",
       "    </tr>\n",
       "    <tr>\n",
       "      <th>21695</th>\n",
       "      <td>6</td>\n",
       "      <td>0</td>\n",
       "      <td>4</td>\n",
       "      <td>20161221192637277</td>\n",
       "      <td>6_0_4_20161221192637277.jpg.chip.jpg</td>\n",
       "    </tr>\n",
       "    <tr>\n",
       "      <th>10857</th>\n",
       "      <td>30</td>\n",
       "      <td>0</td>\n",
       "      <td>4</td>\n",
       "      <td>20170117204104479</td>\n",
       "      <td>30_0_4_20170117204104479.jpg.chip.jpg</td>\n",
       "    </tr>\n",
       "    <tr>\n",
       "      <th>784</th>\n",
       "      <td>15</td>\n",
       "      <td>1</td>\n",
       "      <td>4</td>\n",
       "      <td>20170103201445071</td>\n",
       "      <td>15_1_4_20170103201445071.jpg.chip.jpg</td>\n",
       "    </tr>\n",
       "  </tbody>\n",
       "</table>\n",
       "</div>"
      ],
      "text/plain": [
       "      Age Gender Race          Date_Time  \\\n",
       "10237   2      0    4  20161221202417666   \n",
       "21799   6      1    4  20170119204208503   \n",
       "13306  35      0    4  20170104165959561   \n",
       "12242  32      1    4  20170105165021555   \n",
       "15337   3      1    4  20170104005006111   \n",
       "793    15      1    4  20170103233441003   \n",
       "12309  33      0    4  20170117201021349   \n",
       "21695   6      0    4  20161221192637277   \n",
       "10857  30      0    4  20170117204104479   \n",
       "784    15      1    4  20170103201445071   \n",
       "\n",
       "                                   File_Name  \n",
       "10237   2_0_4_20161221202417666.jpg.chip.jpg  \n",
       "21799   6_1_4_20170119204208503.jpg.chip.jpg  \n",
       "13306  35_0_4_20170104165959561.jpg.chip.jpg  \n",
       "12242  32_1_4_20170105165021555.jpg.chip.jpg  \n",
       "15337   3_1_4_20170104005006111.jpg.chip.jpg  \n",
       "793    15_1_4_20170103233441003.jpg.chip.jpg  \n",
       "12309  33_0_4_20170117201021349.jpg.chip.jpg  \n",
       "21695   6_0_4_20161221192637277.jpg.chip.jpg  \n",
       "10857  30_0_4_20170117204104479.jpg.chip.jpg  \n",
       "784    15_1_4_20170103201445071.jpg.chip.jpg  "
      ]
     },
     "execution_count": 29,
     "metadata": {},
     "output_type": "execute_result"
    }
   ],
   "source": [
    "race_4"
   ]
  },
  {
   "cell_type": "code",
   "execution_count": 31,
   "id": "f5a26357-0298-4178-88a8-da88e11d4c76",
   "metadata": {},
   "outputs": [],
   "source": [
    "df = pd.concat([race_0,race_1,race_2,race_3,race_4 ])"
   ]
  },
  {
   "cell_type": "code",
   "execution_count": 33,
   "id": "36d1ef3e-56de-47ef-8b22-e7567c3382b1",
   "metadata": {},
   "outputs": [
    {
     "data": {
      "text/plain": [
       "Race\n",
       "0    100\n",
       "1     10\n",
       "2     10\n",
       "3     10\n",
       "4     10\n",
       "Name: count, dtype: int64"
      ]
     },
     "execution_count": 33,
     "metadata": {},
     "output_type": "execute_result"
    }
   ],
   "source": [
    "df.Race.value_counts()"
   ]
  },
  {
   "cell_type": "code",
   "execution_count": 39,
   "id": "4588c83b-4289-4fa2-92de-014183be01b0",
   "metadata": {},
   "outputs": [
    {
     "name": "stdout",
     "output_type": "stream",
     "text": [
      "Done!\n"
     ]
    }
   ],
   "source": [
    "import shutil\n",
    "original_folder = \"./UTKFace\"\n",
    "\n",
    "folder = \"./images\"\n",
    "\n",
    "os.makedirs(folder, exist_ok = True)\n",
    "\n",
    "def cp_img(df, target_folder):\n",
    "    for filename in df[\"File_Name\"]:\n",
    "        source_path = os.path.join(original_folder, filename)\n",
    "        target_path = os.path.join(folder, filename)\n",
    "        shutil.copy(source_path, target_path)\n",
    "    print(\"Done!\")\n",
    "\n",
    "cp_img(df,folder)"
   ]
  },
  {
   "cell_type": "markdown",
   "id": "b43d7735-0403-4569-b41b-d2643abb9230",
   "metadata": {},
   "source": [
    "pip install Augmentor"
   ]
  },
  {
   "cell_type": "code",
   "execution_count": 41,
   "id": "c6c42498-2fe7-4b38-a558-435a5814c9ce",
   "metadata": {},
   "outputs": [],
   "source": [
    "def org_img(df):\n",
    "    for _, row in df.iterrows():\n",
    "        img = row[\"File_Name\"]\n",
    "        race_class = row[\"Race\"]\n",
    "\n",
    "        race_folder = os.path.join(folder, str(race_class))\n",
    "        os.makedirs(race_folder, exist_ok = True)\n",
    "\n",
    "        source_folder = os.path.join(folder, img)\n",
    "        target_folder = os.path.join(race_folder, img)\n",
    "\n",
    "        shutil.move(source_folder, target_folder)\n",
    "\n",
    "    print(\"Done!\")"
   ]
  },
  {
   "cell_type": "code",
   "execution_count": 43,
   "id": "a0df8873-e99d-461a-8ff5-abe4fc131720",
   "metadata": {},
   "outputs": [
    {
     "name": "stdout",
     "output_type": "stream",
     "text": [
      "Done!\n"
     ]
    }
   ],
   "source": [
    "org_img(df)"
   ]
  },
  {
   "cell_type": "code",
   "execution_count": 45,
   "id": "bd3943b5-3d64-41f2-9b04-84b91c93d9bb",
   "metadata": {},
   "outputs": [],
   "source": [
    "import Augmentor\n",
    "\n",
    "def Aug_img():\n",
    "    for race_class in os.listdir(folder):\n",
    "        race_folder = os.path.join(folder, race_class)\n",
    "\n",
    "        if not os.path.isdir(race_folder) or race_class == \"0\":\n",
    "            continue\n",
    "            \n",
    "        p = Augmentor.Pipeline(source_directory = race_folder)\n",
    "\n",
    "        p.rotate(probability = 0.7, max_left_rotation = 25, max_right_rotation = 25)\n",
    "        p.flip_left_right(probability = 0.5)\n",
    "        p.zoom_random(probability = 0.5, percentage_area = 0.8)\n",
    "        p.random_contrast(probability = 0.5, min_factor = 0.7, max_factor = 1.2)\n",
    "        p.random_brightness(probability = 0.5, min_factor = 0.7, max_factor = 1.2)\n",
    "        p.shear(probability = 0.5, max_shear_left = 10, max_shear_right = 10)\n",
    "        p.random_color(probability = 0.5,min_factor = 0.7, max_factor = 1.2)\n",
    "\n",
    "        p.sample(90)\n",
    "\n",
    "        print(f\"{race_class}Done!\")"
   ]
  },
  {
   "cell_type": "code",
   "execution_count": 47,
   "id": "87108d92-1477-422b-a19e-a9a3b2bb4465",
   "metadata": {},
   "outputs": [
    {
     "name": "stdout",
     "output_type": "stream",
     "text": [
      "Initialised with 10 image(s) found.\n",
      "Output directory set to ./images\\1\\output."
     ]
    },
    {
     "name": "stderr",
     "output_type": "stream",
     "text": [
      "Processing <PIL.Image.Image image mode=RGB size=200x200 at 0x220C48A6690>: 100%|█| 90/90 [00:00<00:00, 178.59 Samples/s\n"
     ]
    },
    {
     "name": "stdout",
     "output_type": "stream",
     "text": [
      "1Done!\n",
      "Initialised with 10 image(s) found.\n",
      "Output directory set to ./images\\2\\output."
     ]
    },
    {
     "name": "stderr",
     "output_type": "stream",
     "text": [
      "Processing <PIL.Image.Image image mode=RGB size=200x200 at 0x220BAF65250>: 100%|█| 90/90 [00:00<00:00, 193.08 Samples/s\n"
     ]
    },
    {
     "name": "stdout",
     "output_type": "stream",
     "text": [
      "2Done!\n",
      "Initialised with 10 image(s) found.\n",
      "Output directory set to ./images\\3\\output."
     ]
    },
    {
     "name": "stderr",
     "output_type": "stream",
     "text": [
      "Processing <PIL.Image.Image image mode=RGB size=200x200 at 0x220C4833A90>: 100%|█| 90/90 [00:00<00:00, 140.04 Samples/s\n"
     ]
    },
    {
     "name": "stdout",
     "output_type": "stream",
     "text": [
      "3Done!\n",
      "Initialised with 10 image(s) found.\n",
      "Output directory set to ./images\\4\\output."
     ]
    },
    {
     "name": "stderr",
     "output_type": "stream",
     "text": [
      "Processing <PIL.Image.Image image mode=RGB size=200x200 at 0x220C48A5DD0>: 100%|█| 90/90 [00:00<00:00, 186.47 Samples/s"
     ]
    },
    {
     "name": "stdout",
     "output_type": "stream",
     "text": [
      "4Done!\n"
     ]
    },
    {
     "name": "stderr",
     "output_type": "stream",
     "text": [
      "\n"
     ]
    }
   ],
   "source": [
    "Aug_img()"
   ]
  },
  {
   "cell_type": "code",
   "execution_count": null,
   "id": "ad63031e-c13a-4f41-bba2-07d217d53ad1",
   "metadata": {},
   "outputs": [],
   "source": []
  }
 ],
 "metadata": {
  "kernelspec": {
   "display_name": "Python 3 (ipykernel)",
   "language": "python",
   "name": "python3"
  },
  "language_info": {
   "codemirror_mode": {
    "name": "ipython",
    "version": 3
   },
   "file_extension": ".py",
   "mimetype": "text/x-python",
   "name": "python",
   "nbconvert_exporter": "python",
   "pygments_lexer": "ipython3",
   "version": "3.11.7"
  }
 },
 "nbformat": 4,
 "nbformat_minor": 5
}
